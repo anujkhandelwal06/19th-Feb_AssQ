{
 "cells": [
  {
   "cell_type": "markdown",
   "id": "14bcca86-af08-48eb-893a-ab403cff4b68",
   "metadata": {},
   "source": [
    "Q1. What is Flask Framework? What are the advantages of Flask Framework?"
   ]
  },
  {
   "cell_type": "markdown",
   "id": "4f35f47e-aa65-443d-9f7c-1c539706866e",
   "metadata": {},
   "source": [
    "\n",
    "\n",
    "Ans : It's is a micro web framework for python , designed to be simple and easy to use.\n",
    "It allows developers to quickly build web applications with minimal overhead and a straightforward syntax.\n",
    "Flask is known for its simplicity and flexibility, making it a ppoular choice for developing small to medium sized web applications and APIs.\n",
    "\n",
    "Advantages of Flask:\n",
    "\n",
    "1.Simplicity: Providing only the essential tools needed for web development, Makes it easy to understand and learn and making it excellent choice for begineers.\n",
    "\n",
    "2.Flexibility:Freedom to choose the components they want to use and does not impose any specific project structure or database ORM (Object-Relational Mapping), allowing developers to select the tools that best fit their project's requirements.\n",
    "\n",
    "3.Lightweight: Flask has a small footprint and minimal dependencies.Does not come bundled with unnecessary features, reducing overhead and allowing for faster application development.\n",
    "\n",
    "4.Extensibility: Flask is highly extensible and allows developers to add additional functionality through various Flask extensions. \n",
    "\n",
    "5.Pythonic: Flask embraces the principles of Python, leveraging its simplicity and readability. It integrates well with other Python libraries and frameworks, making it easy to combine Flask with existing Python code or integrate third-party libraries.\n",
    "\n",
    "6.Active Community: Flask has a vibrant and active community of developers, which means you can find extensive documentation, tutorials, and resources to help you get started and resolve any issues you may encounter during development.\n",
    "\n"
   ]
  },
  {
   "cell_type": "markdown",
   "id": "d63735f7-d557-44bd-a3e2-cd23e33715e3",
   "metadata": {},
   "source": [
    "Q2. Create a simple Flask application to display ‘Hello World!!’. Attach the screenshot of the output in Jupyter Notebook."
   ]
  },
  {
   "cell_type": "raw",
   "id": "0ca9628b-d066-4434-b221-5d290178bd81",
   "metadata": {},
   "source": [
    "pip install flask\n"
   ]
  },
  {
   "cell_type": "raw",
   "id": "a9bf3bb2-d6ef-44b9-a011-5cb3fec834b5",
   "metadata": {},
   "source": [
    "from flask import Flask\n",
    "\n",
    "app = Flask(__name__)\n",
    "\n",
    "@app.route('/')\n",
    "def hello():\n",
    "    return 'Hello World!!'\n",
    "\n",
    "if __name__ == '__main__':\n",
    "    app.run()\n"
   ]
  },
  {
   "cell_type": "markdown",
   "id": "265b238f-4659-4ced-9f8d-e1abc0af1565",
   "metadata": {},
   "source": [
    "Q3. What is App routing in Flask? Why do we use app routes?"
   ]
  },
  {
   "cell_type": "markdown",
   "id": "dff8ea65-b4ff-48e8-b1b0-b8e37fa8c43c",
   "metadata": {},
   "source": [
    "\n",
    "\n",
    "Ans : In flask ,app routing refers to the process of mapping urls (uniform resource locators) to specific functions or views in flask application.\n",
    "It allows you to define different routes or urls that users can access and associate them with corresponding functions that handle the requests and return responses.\n",
    "\n",
    "example of defining route in flask:\n",
    "\n",
    "from flask import Flask\n",
    "\n",
    "app = Flask(__name__)\n",
    "\n",
    "@app.route('/')\n",
    "def home():\n",
    "    return 'This is the home page.'\n",
    "\n",
    "@app.route('/about')\n",
    "def about():\n",
    "    return 'This is the about page.'\n",
    "\n",
    "if __name__ == '__main__':\n",
    "    app.run()\n",
    "    \n",
    "    \n",
    " In this code we defined two routes using the '@app.route()'decorator.\n",
    " '/' : It corresponds to homepage.\n",
    " '/about' : corresponds to the about page\n",
    " When a user visits these urls in web browser, Flask will invoke the respective function and return the associated response.\n",
    "   \n",
    "App routing is essential in Flask application for several reasons:\n",
    "\n",
    "1.URL Mapping: By defining routes, you can specify the different URLs or paths users can access in your application.\n",
    "\n",
    "Allows logical structrure and organization of web application content.\n",
    "\n",
    "2.Request Handling: Routes enable you to handle different types of HTTP requests (e.g., GET, POST) for specific URLs. Each route can have a corresponding function that processes the request and generates a response, such as rendering a template or returning JSON data.\n",
    "\n",
    "3.Dynamic Routing: Flask allows you to create dynamic routes by including variable parts in the URL. For example, you can define a route like '/user/<username>', where <username> represents a dynamic value. \n",
    "    \n",
    "This enables you to create flexible routes that can handle a variety of inputs.\n",
    "\n",
    "4.Separation of Concerns: App routing helps in separating different functionalities or views of your application. Each route can be associated with a specific function that handles that particular part of the application.\n",
    "    \n",
    "This promotes modular and maintainable code structure.\n",
    "\n",
    "5.RESTful APIs: For building RESTful APIs, app routing becomes even more critical. Each route can be associated with specific API endpoints, allowing clients to interact with different resources or perform specific actions."
   ]
  },
  {
   "cell_type": "markdown",
   "id": "7eada1f6-2cb4-4ada-9dc0-937f118ad166",
   "metadata": {},
   "source": [
    "Q4.  Create a “/welcome” route to display the welcome message “Welcome to ABC Corporation” and a “/” \n",
    "route to show the following details:\n",
    "\n",
    "    Company Name: ABC Corporation\n",
    "\n",
    "    Location: India\n",
    "\n",
    "    Contact Detail: 999-999-9999 \n",
    "\n",
    "\n",
    "Attach the screenshot of the output in Jupyter Notebook"
   ]
  },
  {
   "cell_type": "raw",
   "id": "72078345-f3a1-458b-9d9d-7cf7c48b9c58",
   "metadata": {},
   "source": [
    "Ans:\n",
    "\n",
    "from flask import Flask\n",
    "from flask import request\n",
    "\n",
    "app = Flask(__name__)\n",
    "\n",
    "@app.route(\"/Welcome\")\n",
    "def Welcome():\n",
    "    return '<h1>Welcome to ABC Corporation</h1>'\n",
    "\n",
    "@app.route('/')\n",
    "def details ():\n",
    "    return '''\n",
    "    <h2>Company Name: ABC Corporation</h2>\n",
    "    <p>Location: India</P>\n",
    "    <p>Contact Details: 999-999-999</p>\n",
    "    ''' \n",
    "\n",
    "\n",
    "if __name__==\"__main__\":\n",
    "    app.run(host=\"0.0.0.0\")"
   ]
  },
  {
   "cell_type": "markdown",
   "id": "ef1a6912-3599-4eea-8ff3-86de2adecf20",
   "metadata": {},
   "source": [
    "Q5. What function is used in Flask for URL Building? Write a Python code to demonstrate the working of the url_for() function"
   ]
  },
  {
   "cell_type": "markdown",
   "id": "1434ff68-232f-440b-bd09-290aec5ae1f8",
   "metadata": {},
   "source": [
    "Ans : In Flask, the `url_for()` function is used for URL building. It is a built-in function provided by Flask that generates URLs for Flask routes based on their associated function names.\n",
    "\n",
    "The `url_for()` function takes the name of the function as its first argument and optionally additional keyword arguments representing the values of any route parameters. It returns the URL that corresponds to the given function and parameters.\n",
    "\n",
    "Here's an example Python code that demonstrates the working of the `url_for()` function in Flask:\n",
    "\n",
    "```python\n",
    "from flask import Flask, url_for\n",
    "\n",
    "app = Flask(__name__)\n",
    "\n",
    "@app.route('/')\n",
    "def home():\n",
    "    return 'This is the home page.'\n",
    "\n",
    "@app.route('/about')\n",
    "def about():\n",
    "    return 'This is the about page.'\n",
    "\n",
    "@app.route('/user/<username>')\n",
    "def user_profile(username):\n",
    "    return f'This is the profile page of {username}'\n",
    "\n",
    "if __name__ == '__main__':\n",
    "    with app.test_request_context():\n",
    "        # Generate URLs using url_for()\n",
    "        home_url = url_for('home')\n",
    "        about_url = url_for('about')\n",
    "        profile_url = url_for('user_profile', username='john_doe')\n",
    "\n",
    "        # Print the generated URLs\n",
    "        print(f'Home URL: {home_url}')\n",
    "        print(f'About URL: {about_url}')\n",
    "        print(f'Profile URL: {profile_url}')\n",
    "```\n",
    "\n",
    "In the code above, we define three routes: `'/'` for the home page, `'/about'` for the about page, and `'/user/<username>'` for user profiles. Inside the `if __name__ == '__main__'` block, we use the `url_for()` function to generate URLs for these routes.\n",
    "\n",
    "When you run this code, it will print the generated URLs for each route. For example, you will see the home URL as `'/'`, the about URL as `'/about'`, and a profile URL with the specified username parameter value.\n",
    "\n",
    "The `url_for()` function is especially useful when you want to dynamically generate URLs within your Flask application, ensuring that the URLs remain consistent even if the route paths change."
   ]
  },
  {
   "cell_type": "code",
   "execution_count": null,
   "id": "051fa0d1-e659-4053-9e53-f2048e8a06f8",
   "metadata": {},
   "outputs": [],
   "source": []
  }
 ],
 "metadata": {
  "kernelspec": {
   "display_name": "Python 3 (ipykernel)",
   "language": "python",
   "name": "python3"
  },
  "language_info": {
   "codemirror_mode": {
    "name": "ipython",
    "version": 3
   },
   "file_extension": ".py",
   "mimetype": "text/x-python",
   "name": "python",
   "nbconvert_exporter": "python",
   "pygments_lexer": "ipython3",
   "version": "3.10.8"
  }
 },
 "nbformat": 4,
 "nbformat_minor": 5
}
